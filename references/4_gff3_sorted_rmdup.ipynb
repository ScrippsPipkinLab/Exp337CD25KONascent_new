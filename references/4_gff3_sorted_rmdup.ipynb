{
 "cells": [
  {
   "cell_type": "code",
   "execution_count": 1,
   "metadata": {},
   "outputs": [],
   "source": [
    "import pandas as pd\n",
    "import os\n",
    "import csv\n",
    "import glob\n",
    "import numpy as np"
   ]
  },
  {
   "cell_type": "code",
   "execution_count": 2,
   "metadata": {},
   "outputs": [
    {
     "data": {
      "text/plain": [
       "['Mus_musculus.GRCm38.102.exon.simp.rmdup.srt.gff3',\n",
       " 'Mus_musculus.GRCm38.102.mRNA.simp.rmdup.srt.gff3']"
      ]
     },
     "execution_count": 2,
     "metadata": {},
     "output_type": "execute_result"
    }
   ],
   "source": [
    "glob.glob(\"*mdup.srt.gff3\")"
   ]
  },
  {
   "cell_type": "code",
   "execution_count": 14,
   "metadata": {},
   "outputs": [],
   "source": [
    "in_file = 'Mus_musculus.GRCm38.102.exon.simp.rmdup.srt.gff3'\n",
    "out_file = in_file.replace(\".gff3\", \".rmdup.gff3\")\n",
    "\n",
    "with open(in_file, \"r\") as fin:\n",
    "    with open(out_file, \"w\") as fout:\n",
    "        rfin = csv.reader(fin, delimiter = \"\\t\")\n",
    "        wfout = csv.writer(fout, delimiter = \"\\t\")\n",
    "        chr_n = '0'\n",
    "        s_pos = 0\n",
    "        e_pos = 0\n",
    "        strand = ''\n",
    "        for row in rfin:\n",
    "            row_chr_n = str(row[0])\n",
    "            row_s_pos = int(row[3])\n",
    "            row_e_pos = int(row[4])\n",
    "            row_strand = str(row[6])\n",
    "            if not ((row_chr_n == chr_n) and (row_s_pos == s_pos) \n",
    "                    and (row_e_pos == e_pos) and (row_strand == strand)):\n",
    "                wfout.writerow(row)\n",
    "\n",
    "            chr_n = row_chr_n\n",
    "            s_pos = row_s_pos\n",
    "            e_pos = row_e_pos\n",
    "            strand = row_strand"
   ]
  },
  {
   "cell_type": "code",
   "execution_count": 20,
   "metadata": {},
   "outputs": [],
   "source": [
    "in_file = 'Mus_musculus.GRCm38.102.exon.simp.rmdup.srt.rmdup.gff3'\n",
    "out_file = in_file.replace(\".gff3\", \".rmOverlap.gff3\")\n",
    "\n",
    "with open(in_file, \"r\") as fin:\n",
    "    with open(out_file, \"w\") as fout:\n",
    "        rfin = csv.reader(fin, delimiter = \"\\t\")\n",
    "        wfout = csv.writer(fout, delimiter = \"\\t\")\n",
    "        chr_n = '0'\n",
    "        s_pos = 0\n",
    "        e_pos = 0\n",
    "        strand = ''\n",
    "        for row in rfin:\n",
    "            row_chr_n = str(row[0])\n",
    "            row_s_pos = int(row[3])\n",
    "            row_e_pos = int(row[4])\n",
    "            row_strand = str(row[6])\n",
    "            if (max(row_e_pos, e_pos) - min(s_pos, row_s_pos)) >= ((row_e_pos - row_s_pos) + (e_pos - s_pos))  \\\n",
    "                or chr_n != row_chr_n or row_strand != strand:\n",
    "                wfout.writerow(row)\n",
    "\n",
    "            chr_n = row_chr_n\n",
    "            s_pos = row_s_pos\n",
    "            e_pos = row_e_pos\n",
    "            strand = row_strand"
   ]
  },
  {
   "cell_type": "code",
   "execution_count": null,
   "metadata": {},
   "outputs": [],
   "source": []
  }
 ],
 "metadata": {
  "kernelspec": {
   "display_name": "Python 3",
   "language": "python",
   "name": "python3"
  },
  "language_info": {
   "codemirror_mode": {
    "name": "ipython",
    "version": 3
   },
   "file_extension": ".py",
   "mimetype": "text/x-python",
   "name": "python",
   "nbconvert_exporter": "python",
   "pygments_lexer": "ipython3",
   "version": "3.8.5"
  }
 },
 "nbformat": 4,
 "nbformat_minor": 4
}
