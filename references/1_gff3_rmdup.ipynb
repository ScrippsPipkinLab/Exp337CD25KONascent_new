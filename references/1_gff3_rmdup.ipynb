{
 "cells": [
  {
   "cell_type": "code",
   "execution_count": 21,
   "metadata": {},
   "outputs": [],
   "source": [
    "import pandas as pd\n",
    "import os\n",
    "import csv\n",
    "import glob\n",
    "import numpy as np"
   ]
  },
  {
   "cell_type": "code",
   "execution_count": 10,
   "metadata": {},
   "outputs": [
    {
     "data": {
      "text/plain": [
       "['Mus_musculus.GRCm38.102.exon.gff3',\n",
       " 'Mus_musculus.GRCm38.102.gff3',\n",
       " 'Mus_musculus.GRCm38.102.mRNA.gff3']"
      ]
     },
     "execution_count": 10,
     "metadata": {},
     "output_type": "execute_result"
    }
   ],
   "source": [
    "glob.glob(\"*.gff3\")"
   ]
  },
  {
   "cell_type": "code",
   "execution_count": 53,
   "metadata": {},
   "outputs": [],
   "source": [
    "use_chrs = [str(x) for x in list(range(1,20))] + ['X']"
   ]
  },
  {
   "cell_type": "code",
   "execution_count": 188,
   "metadata": {},
   "outputs": [],
   "source": [
    "##### Remove chromosome Y and random & simplify Exon ID\n",
    "gff_file = 'Mus_musculus.GRCm38.102.exon.gff3'\n",
    "out_gff_file = gff_file.replace(\".gff3\", \".simp.gff3\")\n",
    "gff_df = pd.read_csv(gff_file, sep='\\t', dtype={0:'str'}, header=None)\n",
    "\n",
    "# Remove the ones that are not in chr1-19 or x \n",
    "gff_df = gff_df[[True if x in use_chrs else False for x in gff_df[0].tolist()]]\n",
    "\n",
    "# Simplify to Exon ID\n",
    "gff_df[8] = [x.split(\"Name=\")[1].split(\";\")[0] for x in gff_df[8]]\n",
    "gff_df[8] = [\"ID=%s\"%x for x in gff_df[8]]\n",
    "gff_df.to_csv(out_gff_file, index=False, header=None, sep=\"\\t\", quoting=csv.QUOTE_NONE)"
   ]
  },
  {
   "cell_type": "code",
   "execution_count": 187,
   "metadata": {},
   "outputs": [],
   "source": [
    "##### Remove chromosome Y and random & simplify Exon ID\n",
    "gff_file = 'Mus_musculus.GRCm38.102.mRNA.gff3'\n",
    "out_gff_file = gff_file.replace(\".gff3\", \".simp.gff3\")\n",
    "gff_df = pd.read_csv(gff_file, sep='\\t', dtype={0:'str'}, header=None)\n",
    "\n",
    "# Remove the ones that are not in chr1-19 or x \n",
    "gff_df = gff_df[[True if x in use_chrs else False for x in gff_df[0].tolist()]]\n",
    "\n",
    "# Simplify to Exon ID\n",
    "gff_df[8] = [x.split(\"Name=\")[1].split(\";\")[0].split(\"-\")[0] for x in gff_df[8]]\n",
    "gff_df[8] = [\"ID=%s\"%x for x in gff_df[8]]\n",
    "gff_df.to_csv(out_gff_file, index=False, header=None, sep=\"\\t\", quoting=csv.QUOTE_NONE)"
   ]
  },
  {
   "cell_type": "code",
   "execution_count": 186,
   "metadata": {},
   "outputs": [],
   "source": [
    "##### For each gene keep one mRNA\n",
    "out_rmdup_file = gff_file.replace(\".gff3\", \".simp.rmdup.gff3\")\n",
    "id_unique = np.unique(gff_df[8])\n",
    "with open(out_rmdup_file, \"w\") as fout:\n",
    "    wfout = csv.writer(fout, delimiter=\"\\t\")\n",
    "    for id_i in id_unique:\n",
    "        gff_df_id = gff_df[gff_df[8] == id_i]\n",
    "        start = min(gff_df_id[3])\n",
    "        end = max(gff_df_id[4])\n",
    "        new_list = gff_df_id.iloc[0,:].tolist()\n",
    "        new_list[1] = 'merged'\n",
    "        new_list[3] = start\n",
    "        new_list[4] = end\n",
    "        wfout.writerow(new_list)"
   ]
  },
  {
   "cell_type": "code",
   "execution_count": null,
   "metadata": {},
   "outputs": [],
   "source": []
  }
 ],
 "metadata": {
  "kernelspec": {
   "display_name": "Python 3",
   "language": "python",
   "name": "python3"
  },
  "language_info": {
   "codemirror_mode": {
    "name": "ipython",
    "version": 3
   },
   "file_extension": ".py",
   "mimetype": "text/x-python",
   "name": "python",
   "nbconvert_exporter": "python",
   "pygments_lexer": "ipython3",
   "version": "3.8.5"
  }
 },
 "nbformat": 4,
 "nbformat_minor": 4
}
