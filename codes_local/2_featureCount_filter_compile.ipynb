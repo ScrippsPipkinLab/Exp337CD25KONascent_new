{
 "cells": [
  {
   "cell_type": "code",
   "execution_count": 53,
   "metadata": {},
   "outputs": [],
   "source": [
    "import pandas as pd\n",
    "import os\n",
    "import glob\n",
    "try:\n",
    "    code_dir\n",
    "except NameError:\n",
    "    code_dir = os.getcwd()\n",
    "    base_dir = code_dir.replace(\"/codes_local\", \"\")"
   ]
  },
  {
   "cell_type": "markdown",
   "metadata": {},
   "source": [
    "### 0. Filter counts that are not in the right direction"
   ]
  },
  {
   "cell_type": "code",
   "execution_count": 73,
   "metadata": {},
   "outputs": [],
   "source": [
    "def filterWrongDir(in_file):\n",
    "    #in_file = '/media/pipkin/Yolanda/Exp337CD25KONascent_new/2_featureCounts/337_1_neg_mRNA.txt'\n",
    "    out_file = in_file.replace(\".txt\", \"_flt.csv\")\n",
    "    if \"neg\" in in_file:\n",
    "        in_strand = \"+\"\n",
    "    else:\n",
    "        in_strand = \"-\"\n",
    "    in_df = pd.read_csv(in_file, sep=\"\\t\", skiprows=1)\n",
    "    in_df.columns = in_df.columns.tolist()[:-1] + [\"count\"]\n",
    "    in_df_flt = in_df[in_df['Strand'] == in_strand]\n",
    "    in_df_flt.to_csv(out_file, index=False)\n",
    "    \n",
    "    kept_pctg = sum(in_df_flt.iloc[:,6]) / sum(in_df.iloc[:,6]) * 100\n",
    "    print(in_file.split(\"/\")[-1], \"kept:\", kept_pctg, \"%\")"
   ]
  },
  {
   "cell_type": "code",
   "execution_count": 74,
   "metadata": {},
   "outputs": [
    {
     "name": "stdout",
     "output_type": "stream",
     "text": [
      "337_23_pos_mRNA.txt kept: 84.34447720228316 %\n",
      "337_3_pos_mRNA.txt kept: 85.40283124033745 %\n",
      "337_6_neg_mRNA.txt kept: 76.36161405675732 %\n",
      "337_5_neg_mRNA.txt kept: 77.47129121850405 %\n",
      "337_11_pos_mRNA.txt kept: 85.23022122255053 %\n",
      "337_14_pos_mRNA.txt kept: 77.48930695227538 %\n",
      "337_8_neg_mRNA.txt kept: 79.36359057471279 %\n",
      "337_2_neg_mRNA.txt kept: 77.20361643194484 %\n",
      "337_24_pos_mRNA.txt kept: 85.09121280989696 %\n",
      "337_13_pos_mRNA.txt kept: 84.54401398538445 %\n",
      "337_9_pos_mRNA.txt kept: 83.97136366869874 %\n",
      "337_11_neg_mRNA.txt kept: 88.7163544520093 %\n",
      "337_14_neg_mRNA.txt kept: 85.09889999499491 %\n",
      "337_12_neg_mRNA.txt kept: 82.14490804353326 %\n",
      "337_20_pos_mRNA.txt kept: 86.00292040642825 %\n",
      "337_13_neg_mRNA.txt kept: 84.32762514777356 %\n",
      "337_3_neg_mRNA.txt kept: 85.66139362726531 %\n",
      "337_20_neg_mRNA.txt kept: 84.93970285698569 %\n",
      "337_9_neg_mRNA.txt kept: 86.18701457212585 %\n",
      "337_18_neg_mRNA.txt kept: 84.85339124506687 %\n",
      "337_4_pos_mRNA.txt kept: 85.87462199452047 %\n",
      "337_16_neg_mRNA.txt kept: 82.44113990305554 %\n",
      "337_19_neg_mRNA.txt kept: 86.04145045860922 %\n",
      "337_1_neg_mRNA.txt kept: 78.53510065909288 %\n",
      "337_21_pos_mRNA.txt kept: 85.85267226128033 %\n",
      "337_6_pos_mRNA.txt kept: 81.50435398561224 %\n",
      "337_2_pos_mRNA.txt kept: 78.2062852554068 %\n",
      "337_24_neg_mRNA.txt kept: 85.2928839194676 %\n",
      "337_5_pos_mRNA.txt kept: 83.94604129128163 %\n",
      "337_10_neg_mRNA.txt kept: 85.81340574573471 %\n",
      "337_15_neg_mRNA.txt kept: 85.32662760627521 %\n",
      "337_18_pos_mRNA.txt kept: 84.58443797350395 %\n",
      "337_16_pos_mRNA.txt kept: 85.77080394800271 %\n",
      "337_19_pos_mRNA.txt kept: 85.08735501112325 %\n",
      "337_17_pos_mRNA.txt kept: 84.92987291620307 %\n",
      "337_4_neg_mRNA.txt kept: 80.35867111027913 %\n",
      "337_7_neg_mRNA.txt kept: 84.51968152372851 %\n",
      "337_21_neg_mRNA.txt kept: 86.03111113874816 %\n",
      "337_17_neg_mRNA.txt kept: 82.29569045804759 %\n",
      "337_23_neg_mRNA.txt kept: 85.72152794164258 %\n",
      "337_1_pos_mRNA.txt kept: 84.71884455934584 %\n",
      "337_12_pos_mRNA.txt kept: 85.99316355029246 %\n",
      "337_7_pos_mRNA.txt kept: 81.84835065476138 %\n",
      "337_10_pos_mRNA.txt kept: 83.01936466011568 %\n",
      "337_8_pos_mRNA.txt kept: 83.85387814805075 %\n",
      "337_15_pos_mRNA.txt kept: 84.87142998048941 %\n"
     ]
    }
   ],
   "source": [
    "count_outs = glob.glob(\"%s/2_featureCounts/*mRNA.txt\"%base_dir)\n",
    "for count_out in count_outs:\n",
    "    filterWrongDir(count_out)"
   ]
  },
  {
   "cell_type": "markdown",
   "metadata": {},
   "source": [
    "### 1. Compile"
   ]
  },
  {
   "cell_type": "code",
   "execution_count": 157,
   "metadata": {},
   "outputs": [],
   "source": [
    "### Get all genes in the reference to compile csv file\n",
    "ref_gff = \"%s/codes_hpc/Mus_musculus.GRCm38.102.mRNA.simp.rmdup.srt.gff3\"%base_dir\n",
    "gff_df = pd.read_csv(ref_gff, sep='\\t', dtype={0:'str'}, header=None)\n",
    "all_genes = [x.replace(\"ID=\",\"\") for x in gff_df[8]]\n",
    "\n",
    "compiled_df = pd.DataFrame({\"gene_name\": all_genes})\n",
    "for i in range(1,25):\n",
    "    if i != 22:\n",
    "        i_pos = \"%s/2_featureCounts/337_%s_pos_mRNA_flt.csv\"%(base_dir, i)\n",
    "        i_neg = \"%s/2_featureCounts/337_%s_neg_mRNA_flt.csv\"%(base_dir, i)\n",
    "        i_pos_df = pd.read_csv(i_pos)\n",
    "        i_neg_df = pd.read_csv(i_neg)\n",
    "        i_df = i_pos_df.append(i_neg_df)[['Geneid', 'count']]\n",
    "        i_df.columns = [\"gene_name\", \"337_%s\"%i]\n",
    "        compiled_df = compiled_df.merge(i_df, how=\"left\")"
   ]
  },
  {
   "cell_type": "code",
   "execution_count": 158,
   "metadata": {},
   "outputs": [],
   "source": [
    "info_file = \"%s/info/sample_sheet.csv\"%base_dir\n",
    "info_df = pd.read_csv(info_file)\n",
    "info_dict = {x.replace(\"-\",\"_\"):y for index, (x, y) in\n",
    "            enumerate(zip(info_df['sp_order'].tolist(), info_df['sp_name'].tolist()))}"
   ]
  },
  {
   "cell_type": "code",
   "execution_count": 159,
   "metadata": {},
   "outputs": [],
   "source": [
    "compiled_df = compiled_df.set_index(\"gene_name\")\n",
    "compiled_df.columns = [info_dict[x] for x in compiled_df.columns]\n",
    "compiled_df.to_csv(\"%s/2_featureCounts_merged/Exp337_count.csv\"%base_dir)"
   ]
  },
  {
   "cell_type": "code",
   "execution_count": 160,
   "metadata": {},
   "outputs": [],
   "source": [
    "gene_max_n = compiled_df.max(axis=1)\n",
    "compiled_df_c5 = compiled_df[[True if x >=5 else False for x in gene_max_n]]\n",
    "compiled_df_c10 = compiled_df[[True if x >=10 else False for x in gene_max_n]]\n",
    "compiled_df_c5.to_csv(\"%s/2_featureCounts_merged/Exp337_count_c5.csv\"%base_dir)\n",
    "compiled_df_c10.to_csv(\"%s/2_featureCounts_merged/Exp337_count_c10.csv\"%base_dir)"
   ]
  },
  {
   "cell_type": "code",
   "execution_count": null,
   "metadata": {},
   "outputs": [],
   "source": []
  },
  {
   "cell_type": "code",
   "execution_count": null,
   "metadata": {},
   "outputs": [],
   "source": []
  },
  {
   "cell_type": "code",
   "execution_count": null,
   "metadata": {},
   "outputs": [],
   "source": []
  }
 ],
 "metadata": {
  "kernelspec": {
   "display_name": "Python 3",
   "language": "python",
   "name": "python3"
  },
  "language_info": {
   "codemirror_mode": {
    "name": "ipython",
    "version": 3
   },
   "file_extension": ".py",
   "mimetype": "text/x-python",
   "name": "python",
   "nbconvert_exporter": "python",
   "pygments_lexer": "ipython3",
   "version": "3.8.3"
  }
 },
 "nbformat": 4,
 "nbformat_minor": 4
}
