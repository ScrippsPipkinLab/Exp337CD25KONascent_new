{
 "cells": [
  {
   "cell_type": "code",
   "execution_count": 1,
   "metadata": {},
   "outputs": [
    {
     "data": {
      "text/plain": [
       "'/media/pipkin/Yolanda/Exp337CD25KONascent_new'"
      ]
     },
     "execution_count": 1,
     "metadata": {},
     "output_type": "execute_result"
    }
   ],
   "source": [
    "import pandas as pd\n",
    "import os\n",
    "import glob\n",
    "try:\n",
    "    code_dir\n",
    "except NameError:\n",
    "    code_dir = os.getcwd()\n",
    "    base_dir = code_dir.replace(\"/codes_local\", \"\")\n",
    "    deseq2_dir = base_dir + \"/3_DEseq2\"\n",
    "    deseq2_compile_dir = base_dir + \"/3_DEseq2_compiled\"\n",
    "base_dir"
   ]
  },
  {
   "cell_type": "markdown",
   "metadata": {},
   "source": [
    "# TPM"
   ]
  },
  {
   "cell_type": "code",
   "execution_count": 2,
   "metadata": {},
   "outputs": [],
   "source": [
    "ref_gff = base_dir + '/codes_hpc/Mus_musculus.GRCm38.102.mRNA.simp.rmdup.srt.gff3'\n",
    "ref_gff_df = pd.read_csv(ref_gff, sep=\"\\t\", header=None)\n",
    "ref_gff_df['gene_name'] = [x.replace(\"ID=\", \"\") for x in ref_gff_df[8]]\n",
    "ref_gff_df['len'] = ref_gff_df[4] - ref_gff_df[3]\n",
    "ref_gff_df['len_kb'] = ref_gff_df['len'] / 1000\n",
    "ref_gff_df = ref_gff_df[['gene_name', 'len_kb']]\n",
    "ref_gff_df = ref_gff_df.set_index('gene_name')"
   ]
  },
  {
   "cell_type": "code",
   "execution_count": 29,
   "metadata": {
    "scrolled": true
   },
   "outputs": [],
   "source": [
    "###----- Convert raw count to tpm\n",
    "raw_count_file = base_dir + '/2_featureCounts_merged/Exp337_count.csv'\n",
    "raw_count_df = pd.read_csv(raw_count_file, index_col=0)\n",
    "ref_gff_df_matched = ref_gff_df.loc[raw_count_df.index.tolist()] # Match gene name order\n",
    "#--- Calculate RPK (read counts divide by length of gene in kilobases)\n",
    "rpk_df = raw_count_df.transpose() / ref_gff_df_matched['len_kb'].tolist()\n",
    "rpk_df = rpk_df.transpose()\n",
    "#--- Calculate scaling factor (sum up RPK values and divide by 1,000,000)\n",
    "scaling_factor = list(rpk_df.sum() / 1000000)\n",
    "#--- Adjust rpk by scalling factor\n",
    "tpm_df = rpk_df / scaling_factor\n",
    "\n",
    "# Ordered conditions\n",
    "conds = []\n",
    "for i in [0,6,24,48]:\n",
    "    conds += [\"WT_%sh_rep1\"%i, \"WT_%sh_rep2\"%i, \"WT_%sh_rep3\"%i]\n",
    "    conds += [\"KO_%sh_rep1\"%i, \"KO_%sh_rep2\"%i, \"KO_%sh_rep3\"%i]\n",
    "conds = [x for x in conds if x in tpm_df.columns.tolist()]\n",
    "\n",
    "tpm_file = deseq2_compile_dir + \"/tpm_bysample.csv\"\n",
    "tpm_df = tpm_df[conds]\n",
    "tpm_df.round(3).to_csv(tpm_file)"
   ]
  },
  {
   "cell_type": "code",
   "execution_count": 30,
   "metadata": {},
   "outputs": [],
   "source": [
    "###----- Averge tpm per condition\n",
    "# Ordered conditions\n",
    "conds = []\n",
    "for i in [0,6,24,48]:\n",
    "    conds.append(\"WT_%sh\"%i)\n",
    "    conds.append(\"KO_%sh\"%i)\n",
    "\n",
    "tpm_df_t = tpm_df.transpose()\n",
    "tpm_df_t['cond'] = [x.split(\"_rep\")[0] for x in tpm_df_t.index]\n",
    "avg_tpm_df = tpm_df_t.groupby('cond').mean().transpose()\n",
    "avg_tpm_df = avg_tpm_df[conds]\n",
    "\n",
    "tpm_file = deseq2_compile_dir + \"/tpm.csv\"\n",
    "avg_tpm_df.round(3).to_csv(tpm_file)"
   ]
  },
  {
   "cell_type": "markdown",
   "metadata": {},
   "source": [
    "# Normalized count"
   ]
  },
  {
   "cell_type": "code",
   "execution_count": 20,
   "metadata": {},
   "outputs": [],
   "source": [
    "###----- Calculate averge normalized count\n",
    "norm_count_file = deseq2_compile_dir + \"/DESeq2_normalized_counts_bysample.csv\"\n",
    "avg_norm_count_file = deseq2_compile_dir + \"/DESeq2_normalized_counts.csv\"\n",
    "\n",
    "norm_count_df = pd.read_csv(norm_count_file, index_col=0)\n",
    "all_genes = norm_count_df.index.tolist()\n",
    "\n",
    "# Create empty df for average normalized count\n",
    "avg_norm_df = pd.DataFrame({\"gene_name\": all_genes}).set_index(\"gene_name\")\n",
    "conds = []\n",
    "for i in [0,6,24,48]:\n",
    "    conds.append(\"WT_%sh\"%i)\n",
    "    conds.append(\"KO_%sh\"%i)\n",
    "# Calculate averge for each condition    \n",
    "for cond in conds:\n",
    "    cond_reps = [x for x in norm_count_df.columns if cond+\"_rep\" in x]\n",
    "    cond_df = norm_count_df[cond_reps]\n",
    "    avg_norm_df[cond] = cond_df.mean(axis=1).tolist()\n",
    "avg_norm_df.round(3).to_csv(avg_norm_count_file)"
   ]
  },
  {
   "cell_type": "markdown",
   "metadata": {},
   "source": [
    "# DESEQ outputs"
   ]
  },
  {
   "cell_type": "code",
   "execution_count": 45,
   "metadata": {},
   "outputs": [],
   "source": [
    "###----- Compile DEseq output\n",
    "deseq2_files = glob.glob(\"%s/*.csv\"%deseq2_dir)\n",
    "\n",
    "all_genes = pd.read_csv(deseq2_files[0])['gene_name']\n",
    "all_genes = [x for x in all_genes if str(x) != 'nan']\n",
    "all_genes = list(set(all_genes))\n",
    "\n",
    "for i in ['log2FoldChange','stat', 'pvalue', 'padj']:\n",
    "    i_df = pd.DataFrame({\"gene_name\": all_genes})\n",
    "    for deseq2_file in deseq2_files:\n",
    "        deseq2_file_name_simp = deseq2_file.split(\"/\")[-1].replace(\".csv\",\"\")\n",
    "        deseq2_df = pd.read_csv(deseq2_file)\n",
    "        deseq2_df.columns = [\"gene_name\"] + deseq2_df.columns.tolist()[1:]\n",
    "        deseq2_i_df = deseq2_df[['gene_name', i]]\n",
    "        deseq2_i_df.columns = ['gene_name', deseq2_file_name_simp]\n",
    "        i_df = i_df.merge(deseq2_i_df, how='left')\n",
    "    i_df_name = deseq2_compile_dir + \"/DESeq2_%s.csv\"%i\n",
    "    i_df.to_csv(i_df_name, index=False)"
   ]
  },
  {
   "cell_type": "code",
   "execution_count": null,
   "metadata": {},
   "outputs": [],
   "source": []
  },
  {
   "cell_type": "code",
   "execution_count": null,
   "metadata": {},
   "outputs": [],
   "source": []
  },
  {
   "cell_type": "code",
   "execution_count": null,
   "metadata": {},
   "outputs": [],
   "source": []
  }
 ],
 "metadata": {
  "kernelspec": {
   "display_name": "Python 3",
   "language": "python",
   "name": "python3"
  },
  "language_info": {
   "codemirror_mode": {
    "name": "ipython",
    "version": 3
   },
   "file_extension": ".py",
   "mimetype": "text/x-python",
   "name": "python",
   "nbconvert_exporter": "python",
   "pygments_lexer": "ipython3",
   "version": "3.8.3"
  }
 },
 "nbformat": 4,
 "nbformat_minor": 4
}
