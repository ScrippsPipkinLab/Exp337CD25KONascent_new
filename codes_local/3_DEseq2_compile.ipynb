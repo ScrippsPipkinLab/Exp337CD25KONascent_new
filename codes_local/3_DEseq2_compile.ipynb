{
 "cells": [
  {
   "cell_type": "code",
   "execution_count": 1,
   "metadata": {},
   "outputs": [],
   "source": [
    "import pandas as pd\n",
    "import os\n",
    "import glob\n",
    "try:\n",
    "    code_dir\n",
    "except NameError:\n",
    "    code_dir = os.getcwd()\n",
    "    base_dir = code_dir.replace(\"/codes_local\", \"\")\n",
    "    deseq2_dir = base_dir + \"/3_DEseq2\"\n",
    "    deseq2_compile_dir = base_dir + \"/3_DEseq2_compiled\""
   ]
  },
  {
   "cell_type": "code",
   "execution_count": 56,
   "metadata": {},
   "outputs": [],
   "source": [
    "###----- Calculate averge normalized count\n",
    "norm_count_file = deseq2_compile_dir + \"/DESeq2_normalized_counts_bysample.csv\"\n",
    "avg_norm_count_file = deseq2_compile_dir + \"/DESeq2_normalized_counts.csv\"\n",
    "\n",
    "norm_count_df = pd.read_csv(norm_count_file, index_col=0)\n",
    "all_genes = norm_count_df.index.tolist()\n",
    "\n",
    "# Create empty df for average normalized count\n",
    "avg_norm_df = pd.DataFrame({\"gene_name\": all_genes}).set_index(\"gene_name\")\n",
    "conds = []\n",
    "for i in [0,6,24,48]:\n",
    "    conds.append(\"WT_%sh\"%i)\n",
    "    conds.append(\"KO_%sh\"%i)\n",
    "# Calculate averge for each condition    \n",
    "for cond in conds:\n",
    "    cond_reps = [x for x in norm_count_df.columns if cond+\"_rep\" in x]\n",
    "    cond_df = norm_count_df[cond_reps]\n",
    "    avg_norm_df[cond] = cond_df.mean(axis=1).tolist()\n",
    "avg_norm_df.to_csv(avg_norm_count_file)"
   ]
  },
  {
   "cell_type": "code",
   "execution_count": 45,
   "metadata": {},
   "outputs": [],
   "source": [
    "###----- Compile DEseq output\n",
    "deseq2_files = glob.glob(\"%s/*.csv\"%deseq2_dir)\n",
    "\n",
    "log2fc_df = pd.DataFrame({\"gene_name\": all_genes})\n",
    "stat_df = pd.DataFrame({\"gene_name\": all_genes})\n",
    "pval_df = pd.DataFrame({\"gene_name\": all_genes})\n",
    "padj_df = \n",
    "\n",
    "\n",
    "    log2fc = deseq2_df[['gene_name', 'stat']]\n",
    "    stat = deseq2_df[['gene_name', 'stat']]\n",
    "    pval = deseq2_df[['gene_name', 'pvalue']]\n",
    "    padj = deseq2_df[['gene_name', 'padj']]"
   ]
  },
  {
   "cell_type": "code",
   "execution_count": 54,
   "metadata": {},
   "outputs": [],
   "source": [
    "for i in ['log2FoldChange','stat', 'pvalue', 'padj']:\n",
    "    i_df = pd.DataFrame({\"gene_name\": all_genes})\n",
    "    for deseq2_file in deseq2_files:\n",
    "        deseq2_file_name_simp = deseq2_file.split(\"/\")[-1].replace(\".csv\",\"\")\n",
    "        deseq2_df = pd.read_csv(deseq2_file)\n",
    "        deseq2_df.columns = [\"gene_name\"] + deseq2_df.columns.tolist()[1:]\n",
    "        deseq2_i_df = deseq2_df[['gene_name', i]]\n",
    "        deseq2_i_df.columns = ['gene_name', deseq2_file_name_simp]\n",
    "        i_df = i_df.merge(deseq2_i_df, how='left')\n",
    "    i_df_name = deseq2_compile_dir + \"/DESeq2_%s.csv\"%i\n",
    "    i_df.to_csv(i_df_name, index=False)"
   ]
  },
  {
   "cell_type": "code",
   "execution_count": null,
   "metadata": {},
   "outputs": [],
   "source": []
  },
  {
   "cell_type": "code",
   "execution_count": null,
   "metadata": {},
   "outputs": [],
   "source": []
  }
 ],
 "metadata": {
  "kernelspec": {
   "display_name": "Python 3",
   "language": "python",
   "name": "python3"
  },
  "language_info": {
   "codemirror_mode": {
    "name": "ipython",
    "version": 3
   },
   "file_extension": ".py",
   "mimetype": "text/x-python",
   "name": "python",
   "nbconvert_exporter": "python",
   "pygments_lexer": "ipython3",
   "version": "3.8.3"
  }
 },
 "nbformat": 4,
 "nbformat_minor": 4
}
