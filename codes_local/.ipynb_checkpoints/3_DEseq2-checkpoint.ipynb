{
 "cells": [
  {
   "cell_type": "code",
   "execution_count": 2,
   "metadata": {},
   "outputs": [],
   "source": [
    "########## DEseq2 for Nascent RNA-seq count table ##########\n",
    "# Author: Huitian (Yolanda) Diao\n",
    "# April 30th, 2019\n",
    "\n",
    "######################################## Imports ########################################\n",
    "library(DESeq2)\n",
    "library(dplyr)\n",
    "library(tidyverse)"
   ]
  },
  {
   "cell_type": "code",
   "execution_count": 4,
   "metadata": {},
   "outputs": [],
   "source": [
    "code.dir <- getwd()\n",
    "base.dir <- gsub(\"/codes_local\", \"\", code.dir)"
   ]
  },
  {
   "cell_type": "code",
   "execution_count": 14,
   "metadata": {},
   "outputs": [],
   "source": [
    "######################################## Config ########################################\n",
    "wk.dir <- file.path(base.dir,\"'/media/pipkin/Yolanda/Exp337CD25KONascent_new/2_featureCounts_merged'\")\n",
    "setwd(wk.dir)"
   ]
  },
  {
   "cell_type": "code",
   "execution_count": 15,
   "metadata": {},
   "outputs": [
    {
     "name": "stderr",
     "output_type": "stream",
     "text": [
      "\n",
      "\u001b[36m──\u001b[39m \u001b[1m\u001b[1mColumn specification\u001b[1m\u001b[22m \u001b[36m────────────────────────────────────────────────────────────────────────────────────────────────────────────────────\u001b[39m\n",
      "cols(\n",
      "  sp_cond = \u001b[31mcol_character()\u001b[39m,\n",
      "  sp_name = \u001b[31mcol_character()\u001b[39m,\n",
      "  sp_order = \u001b[31mcol_character()\u001b[39m\n",
      ")\n",
      "\n",
      "\n",
      "\n",
      "\u001b[36m──\u001b[39m \u001b[1m\u001b[1mColumn specification\u001b[1m\u001b[22m \u001b[36m────────────────────────────────────────────────────────────────────────────────────────────────────────────────────\u001b[39m\n",
      "cols(\n",
      "  .default = col_double(),\n",
      "  name = \u001b[31mcol_character()\u001b[39m\n",
      ")\n",
      "\u001b[36mℹ\u001b[39m Use \u001b[30m\u001b[47m\u001b[30m\u001b[47m`spec()`\u001b[47m\u001b[30m\u001b[49m\u001b[39m for the full column specifications.\n",
      "\n",
      "\n",
      "\n",
      "\u001b[36m──\u001b[39m \u001b[1m\u001b[1mColumn specification\u001b[1m\u001b[22m \u001b[36m────────────────────────────────────────────────────────────────────────────────────────────────────────────────────\u001b[39m\n",
      "cols(\n",
      "  .default = col_double(),\n",
      "  name = \u001b[31mcol_character()\u001b[39m\n",
      ")\n",
      "\u001b[36mℹ\u001b[39m Use \u001b[30m\u001b[47m\u001b[30m\u001b[47m`spec()`\u001b[47m\u001b[30m\u001b[49m\u001b[39m for the full column specifications.\n",
      "\n",
      "\n",
      "converting counts to integer mode\n",
      "\n",
      "estimating size factors\n",
      "\n",
      "estimating dispersions\n",
      "\n",
      "gene-wise dispersion estimates\n",
      "\n",
      "mean-dispersion relationship\n",
      "\n",
      "final dispersion estimates\n",
      "\n",
      "fitting model and testing\n",
      "\n"
     ]
    }
   ],
   "source": [
    "######################################## Main ########################################\n",
    "sp.tb <- read_csv(sp.info.file)\n",
    "f.tb <- read_csv(count.file.f)\n",
    "r.tb <- read_csv(count.file.r)\n",
    "\n",
    "###----- Convert sample number to sample names\n",
    "f.oldnames <- colnames(f.tb)[2:length(colnames(f.tb))]\n",
    "f.names.conds <- cvt_spNames(f.oldnames, sp.tb$sp_order, sp.tb$sp_name, sp.tb$sp_cond)\n",
    "colnames(f.tb) <- c(\"name\", f.names.conds[[1]])\n",
    "f.tb$KO_6h_rep3 <- NULL\n",
    "\n",
    "r.oldnames <- colnames(r.tb)[2:length(colnames(r.tb))]\n",
    "r.names.conds <- cvt_spNames(r.oldnames, sp.tb$sp_order, sp.tb$sp_name, sp.tb$sp_cond)\n",
    "colnames(r.tb) <- c(\"name\", r.names.conds[[1]])\n",
    "r.tb$KO_6h_rep3 <- NULL\n",
    "\n",
    "###----- Check if f and r names match\n",
    "match <- (f.names.conds[[1]] == r.names.conds[[1]])\n",
    "if (FALSE %in% match) {\n",
    "  fr.tb <- NULL\n",
    "  print(\"Forward and reverse strand count summary files do not match (sample orders different)\")\n",
    "} else {\n",
    "  fr.tb <- bind_rows(f.tb, r.tb) %>% column_to_rownames(var = \"name\")\n",
    "}\n",
    "\n",
    "###----- Construct DEseq objects\n",
    "DeseqDesign <- data.frame(names = colnames(fr.tb), condition = as.factor(cvt_nameToCond(colnames(fr.tb))))\n",
    "DESmat <- DESeqDataSetFromMatrix(countData = fr.tb, colData = DeseqDesign, design = ~ condition)\n",
    "DESmat <- DESeq(DESmat)"
   ]
  },
  {
   "cell_type": "code",
   "execution_count": 17,
   "metadata": {},
   "outputs": [],
   "source": [
    "###----- Write outputs\n",
    "ko.types <- c(\"KO_0h\", \"KO_6h\", \"KO_24h\", \"KO_48h\")\n",
    "wt.types <- c(\"WT_0h\", \"WT_6h\", \"WT_24h\", \"WT_48h\")\n",
    "\n",
    "for (i in ko.types) {\n",
    "    for (j in ko.types) {\n",
    "        if (i != j) {\n",
    "            cts <- c(i,j)\n",
    "            cts.name <- paste(cts[1], \"_vs_\", cts[2], \".csv\", sep = \"\")\n",
    "            cts.res <- results(DESmat, contrast = c(\"condition\", cts))\n",
    "            write.csv(cts.res, cts.name)\n",
    "        }\n",
    "    }\n",
    "}\n",
    "\n",
    "for (i in wt.types) {\n",
    "    for (j in wt.types) {\n",
    "        if (i != j) {\n",
    "            cts <- c(i,j)\n",
    "            cts.name <- paste(cts[1], \"_vs_\", cts[2], \".csv\", sep = \"\")\n",
    "            cts.res <- results(DESmat, contrast = c(\"condition\", cts))\n",
    "            write.csv(cts.res, cts.name)\n",
    "        }\n",
    "    }\n",
    "}"
   ]
  },
  {
   "cell_type": "code",
   "execution_count": null,
   "metadata": {},
   "outputs": [],
   "source": []
  }
 ],
 "metadata": {
  "kernelspec": {
   "display_name": "R",
   "language": "R",
   "name": "ir"
  },
  "language_info": {
   "codemirror_mode": "r",
   "file_extension": ".r",
   "mimetype": "text/x-r-source",
   "name": "R",
   "pygments_lexer": "r",
   "version": "3.6.3"
  }
 },
 "nbformat": 4,
 "nbformat_minor": 4
}
