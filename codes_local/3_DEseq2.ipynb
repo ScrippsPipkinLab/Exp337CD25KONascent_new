{
 "cells": [
  {
   "cell_type": "code",
   "execution_count": 2,
   "metadata": {},
   "outputs": [],
   "source": [
    "########## DEseq2 for Nascent RNA-seq count table ##########\n",
    "# Author: Huitian (Yolanda) Diao\n",
    "# April 30th, 2019\n",
    "\n",
    "######################################## Imports ########################################\n",
    "library(DESeq2)\n",
    "library(dplyr)\n",
    "library(tidyverse)\n",
    "\n",
    "# Convert names to conditions\n",
    "cvt_nameToCond <- function(vec_x){\n",
    "  out_vec <- c()\n",
    "  for (i in vec_x) {\n",
    "    out_vec <- c(out_vec, strsplit(i, \"_rep\")[[1]][1])\n",
    "  }\n",
    "  return(out_vec)\n",
    "}"
   ]
  },
  {
   "cell_type": "code",
   "execution_count": 3,
   "metadata": {},
   "outputs": [],
   "source": [
    "code.dir <- getwd()\n",
    "base.dir <- gsub(\"/codes_local\", \"\", code.dir)"
   ]
  },
  {
   "cell_type": "code",
   "execution_count": 4,
   "metadata": {},
   "outputs": [],
   "source": [
    "######################################## Config ########################################\n",
    "wk.dir <- file.path(base.dir, \"2_featureCounts_merged\")\n",
    "out.dir <- file.path(base.dir, \"3_DEseq2\")\n",
    "out.dir2 <- file.path(base.dir, \"3_DEseq2_compiled\")\n",
    "setwd(out.dir)"
   ]
  },
  {
   "cell_type": "code",
   "execution_count": 5,
   "metadata": {},
   "outputs": [
    {
     "name": "stderr",
     "output_type": "stream",
     "text": [
      "\n",
      "\u001b[36m──\u001b[39m \u001b[1m\u001b[1mColumn specification\u001b[1m\u001b[22m \u001b[36m────────────────────────────────────────────────────────\u001b[39m\n",
      "cols(\n",
      "  .default = col_double(),\n",
      "  gene_name = \u001b[31mcol_character()\u001b[39m\n",
      ")\n",
      "\u001b[36mℹ\u001b[39m Use \u001b[30m\u001b[47m\u001b[30m\u001b[47m`spec()`\u001b[47m\u001b[30m\u001b[49m\u001b[39m for the full column specifications.\n",
      "\n",
      "\n",
      "converting counts to integer mode\n",
      "\n",
      "estimating size factors\n",
      "\n",
      "estimating dispersions\n",
      "\n",
      "gene-wise dispersion estimates\n",
      "\n",
      "mean-dispersion relationship\n",
      "\n",
      "final dispersion estimates\n",
      "\n",
      "fitting model and testing\n",
      "\n"
     ]
    }
   ],
   "source": [
    "######################################## Main ########################################\n",
    "fr.file <- file.path(wk.dir, \"Exp337_count_c10.csv\")\n",
    "fr.tb <- read_csv(fr.file) %>% column_to_rownames(var = \"gene_name\")\n",
    "\n",
    "###----- Construct DEseq objects\n",
    "DeseqDesign <- data.frame(names = colnames(fr.tb), condition = as.factor(cvt_nameToCond(colnames(fr.tb))))\n",
    "DESmat <- DESeqDataSetFromMatrix(countData = fr.tb, colData = DeseqDesign, design = ~ condition)\n",
    "DESmat <- DESeq(DESmat)"
   ]
  },
  {
   "cell_type": "code",
   "execution_count": 17,
   "metadata": {},
   "outputs": [],
   "source": [
    "norm.df <- data.frame(counts(DESmat, normalized=T))\n",
    "norm.name <- file.path(out.dir2, \"DESeq2_normalized_counts_bysample.csv\")\n",
    "write.csv(norm.df, norm.name)"
   ]
  },
  {
   "cell_type": "code",
   "execution_count": 6,
   "metadata": {},
   "outputs": [],
   "source": [
    "###----- Write outputs\n",
    "ko.types <- c(\"KO_0h\", \"KO_6h\", \"KO_24h\", \"KO_48h\")\n",
    "wt.types <- c(\"WT_0h\", \"WT_6h\", \"WT_24h\", \"WT_48h\")\n",
    "\n",
    "for (i in ko.types) {\n",
    "    for (j in ko.types) {\n",
    "        if (i != j) {\n",
    "            cts <- c(i,j)\n",
    "            cts.name <- paste(cts[1], \"_vs_\", cts[2], \".csv\", sep = \"\")\n",
    "            cts.res <- results(DESmat, contrast = c(\"condition\", cts))\n",
    "            write.csv(cts.res, cts.name)\n",
    "        }\n",
    "    }\n",
    "}\n",
    "\n",
    "for (i in wt.types) {\n",
    "    for (j in wt.types) {\n",
    "        if (i != j) {\n",
    "            cts <- c(i,j)\n",
    "            cts.name <- paste(cts[1], \"_vs_\", cts[2], \".csv\", sep = \"\")\n",
    "            cts.res <- results(DESmat, contrast = c(\"condition\", cts))\n",
    "            write.csv(cts.res, cts.name)\n",
    "        }\n",
    "    }\n",
    "}"
   ]
  },
  {
   "cell_type": "code",
   "execution_count": 7,
   "metadata": {},
   "outputs": [],
   "source": [
    "###----- Write outputs\n",
    "cts.use <- list(c(\"KO_6h\",\"KO_0h\"), c(\"KO_24h\", \"KO_0h\"), c(\"KO_48h\", \"KO_0h\"),\n",
    "                c(\"WT_6h\",\"WT_0h\"), c(\"WT_24h\", \"WT_0h\"), c(\"WT_48h\", \"WT_0h\"),\n",
    "                c(\"WT_0h\", \"KO_0h\"), c(\"WT_6h\", \"KO_6h\"), \n",
    "                c(\"WT_24h\", \"KO_24h\"), c(\"WT_48h\", \"KO_48h\"))\n",
    "for (i in c(1 : length(cts.use))) {\n",
    "  cts <- cts.use[[i]]\n",
    "  cts.name <- paste(cts[1], \"_vs_\", cts[2], \".csv\", sep = \"\")\n",
    "  cts.res <- results(DESmat, contrast = c(\"condition\", cts))\n",
    "  write.csv(cts.res, cts.name)\n",
    "}\n"
   ]
  },
  {
   "cell_type": "code",
   "execution_count": 6,
   "metadata": {},
   "outputs": [],
   "source": [
    "###----- Write outputs\n",
    "cts.use <- list(c(\"KO_0h\", \"WT_0h\"), c(\"KO_6h\", \"WT_6h\"), \n",
    "                c(\"KO_24h\", \"WT_24h\"), c(\"KO_48h\", \"WT_48h\"))\n",
    "for (i in c(1 : length(cts.use))) {\n",
    "  cts <- cts.use[[i]]\n",
    "  cts.name <- paste(cts[1], \"_vs_\", cts[2], \".csv\", sep = \"\")\n",
    "  cts.res <- results(DESmat, contrast = c(\"condition\", cts))\n",
    "  write.csv(cts.res, cts.name)\n",
    "}"
   ]
  },
  {
   "cell_type": "code",
   "execution_count": null,
   "metadata": {},
   "outputs": [],
   "source": []
  }
 ],
 "metadata": {
  "kernelspec": {
   "display_name": "R",
   "language": "R",
   "name": "ir"
  },
  "language_info": {
   "codemirror_mode": "r",
   "file_extension": ".r",
   "mimetype": "text/x-r-source",
   "name": "R",
   "pygments_lexer": "r",
   "version": "3.6.3"
  }
 },
 "nbformat": 4,
 "nbformat_minor": 4
}
